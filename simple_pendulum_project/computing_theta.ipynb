{
 "cells": [
  {
   "cell_type": "markdown",
   "id": "8bb2cebe-2e66-48da-bb63-5f9027a1ff1d",
   "metadata": {},
   "source": [
    "# Intro \n",
    "\n",
    "We know simple pendulum in small angle approximation can be describe by the differential equation for simple harmonic oscillators. \n",
    "\n",
    "Now we try to make a program, not using small angle approximation, to simulate the motion of the pendulum. At the end of this project, we will have a Vpython simulation of the motion of simple pendulum. "
   ]
  },
  {
   "attachments": {
    "321ae9df-4fbf-4b98-91af-1bc38f80a1db.png": {
     "image/png": "[encoded data removed]"
    }
   },
   "cell_type": "markdown",
   "id": "3d6bf263-9104-44df-87d9-e81276a46428",
   "metadata": {},
   "source": [
    "# Theory \n",
    "\n",
    "![image.png](attachment:321ae9df-4fbf-4b98-91af-1bc38f80a1db.png) Picture is from <a href= \"https://www.isical.ac.in/~arnabc/numana/diff1.html?utm_source=pocket_mylist\"> this website </a> \n",
    "\n",
    "We have the following relations between cartesian and polar coordinates: \n",
    "\n",
    "$$x= L \\sin\\theta$$\n",
    "$$y = - L \\cos\\theta $$\n",
    "\n",
    "Relationship between angular velocity and the components of the velocity vector: \n",
    "$$v_x = v \\cos \\theta$$\n",
    "$$v_y = v \\sin \\theta$$\n",
    "\n",
    "Using Lagrangian, we can prove that the differential equation for the system in polar coordinates (see the figure) is:\n",
    "\n",
    "$$\\ddot{\\theta}= - \\frac{g}{L}\\sin\\theta$$\n",
    "\n",
    "where $g=9.81 m/s^2$ is gravitational acceleration on Earth"
   ]
  },
  {
   "cell_type": "markdown",
   "id": "668abc54-4e2b-4446-86d4-0f479187a94f",
   "metadata": {},
   "source": [
    "# Implementation "
   ]
  },
  {
   "cell_type": "markdown",
   "id": "6bf5f923-0c37-486e-815e-828d2fbcb9ba",
   "metadata": {},
   "source": [
    "Now we can approximate the position of the pendulum using following iteration (usually used for differential equation): \n",
    "\n",
    "$$\\theta_k = \\theta_{k-1}+ \\omega_{k-1} \\Delta t $$ \n",
    "$$\\omega_k = \\omega_{k-1}+\\frac{g}{L} \\sin \\theta_{k-1}\\Delta t  $$"
   ]
  },
  {
   "cell_type": "code",
   "execution_count": null,
   "id": "e0bc7fe9-d080-4079-8af7-e8d3c9ef6ba2",
   "metadata": {},
   "outputs": [],
   "source": [
    "from vpython import * \n",
    "import numpy as np \n",
    "import simple_pendulum_functions\n",
    "\n",
    "\n",
    "# declaring constants \n",
    "g= 9.81 #m/s^2, gravitational acceleration \n",
    "L = 10 #m, the length of the string \n",
    "omega_0=0  # starting angular speed \n",
    "theta_0= np.pi/3  #starting angle \n",
    "\n",
    "\n",
    "\n",
    "\n",
    "\n",
    "#declaring starting position of the ball\n",
    "theta= theta_0  \n",
    "x= L * sin(theta)\n",
    "y =  - L  *cos(theta)\n",
    "z=0\n",
    "# declaring starting velocity for the ball \n",
    "omega= omega_0\n",
    "v_x= (omega* L )* cos(theta)  # x-component of the velocity \n",
    "v_y = (omega*L )* sin(theta) #y-component of the velocity \n",
    "v_z=0 \n",
    "\n",
    "\n",
    "\n",
    "\n",
    "ball= sphere(pos= vec(x, y, z ),radius= 0.5, color= color.cyan, make_trail= True, texture= textures.wood )    # ball\n",
    "reference_wall= box(pos= vec(0,0,0), size= vec(10, 0.2, 10))                                                # wall \n",
    "y_axis= arrow(pos= vec(0,0,0), axis= vec(0, 10, 0), color=color.red)             # y-axis of the coordinate system \n",
    "c= curve(vec(0,0,0), ball.pos, color= color.yellow)                              # create a string for the ball \n",
    "\n",
    "\n",
    "# declaring variables for the loop\n",
    "ball.velocity = vec(v_x, v_y, v_z) # velocity of the ball \n",
    "deltat= 0.005                   # timedelta \n",
    "t=0                           # counter \n",
    "\n",
    "\n",
    "#creating vector arrow for visualizing the velocity \n",
    "vscale=0.5  # scaling the arrow \n",
    "varr= arrow(pos= ball.pos, axis=vscale * ball.velocity, color= color.yellow) # the vector arrow\n",
    "\n",
    "\n",
    "\n",
    "\n",
    "scene.autoscale= False # turn off autoscaling of the camera \n",
    "\n",
    "\n",
    "# animation\n",
    "while t<100: \n",
    "    #updating the velocity \n",
    "    omega= omega+ g/L *sin(theta)*deltat             # updating the angular speed \n",
    "    v_x= (omega* L )* cos(theta)  # x-component of the velocity \n",
    "    v_y = (omega*L )* sin(theta) #y-component of the velocity \n",
    "    v_z=0 \n",
    "    ball.velocity=  vec(v_x, v_y, v_z)      # updating the velocity of the ball \n",
    "    \n",
    "    \n",
    "    \n",
    "    # updating the position \n",
    "    theta = theta- omega* deltat # updating the angle\n",
    "    x= L * sin(theta)        # x \n",
    "    y =  - L  *cos(theta) # y \n",
    "    z=0           # z \n",
    "    ball.pos= vec(x, y, z)  # updating the position of the ball\n",
    "    \n",
    "   \n",
    "    # updating the string position \n",
    "    c.modify(1, ball.pos)\n",
    "\n",
    "    \n",
    "   # updating the arrow position \n",
    "    varr.pos= ball.pos \n",
    "    varr.axis= -vscale*ball.velocity \n",
    "    \n",
    "    \n",
    "    # increase time \n",
    "    t= t+ deltat\n",
    "    rate(200)\n",
    "    \n",
    "    \n",
    "    "
   ]
  },
  {
   "cell_type": "code",
   "execution_count": null,
   "id": "cdecb8e2-365d-42da-8d4f-4ced03323913",
   "metadata": {},
   "outputs": [],
   "source": []
  }
 ],
 "metadata": {
  "kernelspec": {
   "display_name": "Python 3",
   "language": "python",
   "name": "python3"
  },
  "language_info": {
   "codemirror_mode": {
    "name": "ipython",
    "version": 3
   },
   "file_extension": ".py",
   "mimetype": "text/x-python",
   "name": "python",
   "nbconvert_exporter": "python",
   "pygments_lexer": "ipython3",
   "version": "3.8.10"
  }
 },
 "nbformat": 4,
 "nbformat_minor": 5
}
